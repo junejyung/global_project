{
  "nbformat": 4,
  "nbformat_minor": 0,
  "metadata": {
    "colab": {
      "provenance": [],
      "authorship_tag": "ABX9TyM0JK7wqakbhwzqdHIiCB5i",
      "include_colab_link": true
    },
    "kernelspec": {
      "name": "python3",
      "display_name": "Python 3"
    },
    "language_info": {
      "name": "python"
    }
  },
  "cells": [
    {
      "cell_type": "markdown",
      "metadata": {
        "id": "view-in-github",
        "colab_type": "text"
      },
      "source": [
        "<a href=\"https://colab.research.google.com/github/junejyung/global_project/blob/main/%EA%B3%BC%EC%A0%9C.ipynb\" target=\"_parent\"><img src=\"https://colab.research.google.com/assets/colab-badge.svg\" alt=\"Open In Colab\"/></a>"
      ]
    },
    {
      "cell_type": "code",
      "source": [
        "import matplotlib\n",
        "import numpy as np\n",
        "import matplotlib.pyplot as plt\n",
        "\n",
        "x=np.linspace(0,500)\n",
        "plt.plot(x)\n",
        "plt.title('sin')\n",
        "plt.show()"
      ],
      "metadata": {
        "colab": {
          "base_uri": "https://localhost:8080/",
          "height": 452
        },
        "id": "tl0IwA6yUSyx",
        "outputId": "f4fe140a-626a-467e-e093-c9bde5844e97"
      },
      "execution_count": 3,
      "outputs": [
        {
          "output_type": "display_data",
          "data": {
            "text/plain": [
              "<Figure size 640x480 with 1 Axes>"
            ],
            "image/png": "[encoded data removed]"
          },
          "metadata": {}
        }
      ]
    },
    {
      "cell_type": "code",
      "source": [
        "x"
      ],
      "metadata": {
        "id": "wkMcL0jCUk91"
      },
      "execution_count": null,
      "outputs": []
    },
    {
      "cell_type": "code",
      "execution_count": 9,
      "metadata": {
        "id": "rwQSBZ76ZqGg"
      },
      "outputs": [],
      "source": [
        "def hanoi_tower(n, fr,tmp,to):\n",
        "  count=0\n",
        "  if n == 1:\n",
        "    print(\"원판 1: %s-->%s\"%(fr,to))\n",
        "    count+=1\n",
        "  else:\n",
        "    hanoi_tower(n-1, fr, to, tmp)\n",
        "    count+=1\n",
        "    print(\"원판 %d: %s --> %s\" % (n,fr,to))\n",
        "    hanoi_tower(n-1, tmp, fr, to)\n",
        "    count+=1\n"
      ]
    },
    {
      "cell_type": "code",
      "source": [
        "for i in range(1,5):\n",
        "  hanoi_tower(i, 'A', 'B', 'C')\n",
        "  print(\"총횟수 : %d\" %(count))\n",
        "  print(\"======================\")"
      ],
      "metadata": {
        "colab": {
          "base_uri": "https://localhost:8080/"
        },
        "id": "ERbdBWmPZskD",
        "outputId": "ff872a57-cbf4-4200-b3df-853f0d23e373"
      },
      "execution_count": 10,
      "outputs": [
        {
          "output_type": "stream",
          "name": "stdout",
          "text": [
            "원판1: A-->C\n",
            "총횟수 : 3\n",
            "======================\n",
            "원판1: A-->B\n",
            "원판 2: A --> C\n",
            "원판1: B-->C\n",
            "총횟수 : 3\n",
            "======================\n",
            "원판1: A-->C\n",
            "원판 2: A --> B\n",
            "원판1: C-->B\n",
            "원판 3: A --> C\n",
            "원판1: B-->A\n",
            "원판 2: B --> C\n",
            "원판1: A-->C\n",
            "총횟수 : 3\n",
            "======================\n",
            "원판1: A-->B\n",
            "원판 2: A --> C\n",
            "원판1: B-->C\n",
            "원판 3: A --> B\n",
            "원판1: C-->A\n",
            "원판 2: C --> B\n",
            "원판1: A-->B\n",
            "원판 4: A --> C\n",
            "원판1: B-->C\n",
            "원판 2: B --> A\n",
            "원판1: C-->A\n",
            "원판 3: B --> C\n",
            "원판1: A-->B\n",
            "원판 2: A --> C\n",
            "원판1: B-->C\n",
            "총횟수 : 3\n",
            "======================\n"
          ]
        }
      ]
    }
  ]
}