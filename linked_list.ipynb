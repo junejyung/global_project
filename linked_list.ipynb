{
  "nbformat": 4,
  "nbformat_minor": 0,
  "metadata": {
    "colab": {
      "provenance": [],
      "authorship_tag": "ABX9TyPU4TAdSrY/FHZL+4crkcIV",
      "include_colab_link": true
    },
    "kernelspec": {
      "name": "python3",
      "display_name": "Python 3"
    },
    "language_info": {
      "name": "python"
    }
  },
  "cells": [
    {
      "cell_type": "markdown",
      "metadata": {
        "id": "view-in-github",
        "colab_type": "text"
      },
      "source": [
        "<a href=\"https://colab.research.google.com/github/jyungjyung/global_project/blob/main/linked_list.ipynb\" target=\"_parent\"><img src=\"https://colab.research.google.com/assets/colab-badge.svg\" alt=\"Open In Colab\"/></a>"
      ]
    },
    {
      "cell_type": "code",
      "execution_count": 2,
      "metadata": {
        "id": "rMkNbFpeuo7Q"
      },
      "outputs": [],
      "source": [
        "class Node:\n",
        "  def __init__(self,elem, link=None):\n",
        "    self.data = elem\n",
        "    self.link = link"
      ]
    },
    {
      "cell_type": "code",
      "source": [
        "class LinkedList:\n",
        "  def __init__(self):\n",
        "    self.head = None\n",
        "  def isEmpty(self):\n",
        "    return self.head == None\n",
        "  def clear(self):\n",
        "    self.head = None\n",
        "  def size(self):\n",
        "    node=self.head\n",
        "    count=0\n",
        "    while not node==None:\n",
        "      node = node.link\n",
        "      count +=1\n",
        "      return count\n",
        "  def display(self, msg='LinkedList:'):\n",
        "    print(msg, end='')\n",
        "    node = self.head\n",
        "    while not node==None:\n",
        "      print(node.data, end=' ')\n",
        "      node = node.link\n",
        "    print()\n",
        "  def getNode(self, pos):\n",
        "    if pos<0:\n",
        "      return None\n",
        "    node = self.head\n",
        "    while pos>0 and node !=None:\n",
        "      node = node.link\n",
        "      pos -=1\n",
        "    return node\n",
        "  def getEntry(self, pos):\n",
        "    node = self.getNode(pos)\n",
        "    if node != None:\n",
        "      return node.data\n",
        "  def replace(self, pos, elem):\n",
        "    node = self.getNode(pos)\n",
        "    if node != None:\n",
        "      node.data = elem\n",
        "  def find(self, data):\n",
        "    node = self.head\n",
        "    while node is not None:\n",
        "      if node.data == data:\n",
        "        return node\n",
        "      node = node.link\n",
        "    return node\n",
        "  def insert(self, pos, elem):\n",
        "    before = self.getNode(pos-1)\n",
        "    if before == None and pos==0:\n",
        "      self.head = Node(elem, self.head)\n",
        "    elif before != None:\n",
        "      node = Node(elem, before.link)\n",
        "      before.link = node\n",
        "  def delete(self, pos):\n",
        "    before = self.getNode(pos-1)\n",
        "    if before == None:\n",
        "      if self.head is not None:\n",
        "        self.head = self.head.link\n",
        "    elif before.link != None:\n",
        "      before.link = before.link.link"
      ],
      "metadata": {
        "id": "-icW_Y42u6DA"
      },
      "execution_count": 9,
      "outputs": []
    },
    {
      "cell_type": "code",
      "source": [
        "s = LinkedList()\n",
        "s. display('(first):')\n",
        "s.insert(0,10);\n",
        "s.insert(0,20);\n",
        "s.insert(1,30);\n",
        "s.insert(s.size(),20);\n",
        "s.insert(2,50);\n",
        "s.display('(after insert*5):')\n",
        "s.replace(2,90);\n",
        "s.display('(after change):')\n",
        "s.delete(2);\n",
        "s.delete(s.size()-1);\n",
        "s.delete(0);\n",
        "s.display('(after delete*3):')\n",
        "s.clear()\n",
        "s.display('(after clear):')"
      ],
      "metadata": {
        "colab": {
          "base_uri": "https://localhost:8080/"
        },
        "id": "abnWHTiHwYmp",
        "outputId": "b91f4f65-3ef0-4465-e6c1-517ba65484f4"
      },
      "execution_count": 10,
      "outputs": [
        {
          "output_type": "stream",
          "name": "stdout",
          "text": [
            "(first):\n",
            "(after insert*5):20 20 50 30 10 \n",
            "(after change):20 20 90 30 10 \n",
            "(after delete*3):30 10 \n",
            "(after clear):\n"
          ]
        }
      ]
    }
  ]
}