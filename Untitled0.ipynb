{
  "nbformat": 4,
  "nbformat_minor": 0,
  "metadata": {
    "colab": {
      "provenance": [],
      "authorship_tag": "ABX9TyPcDCKNbAanBkUE28olWYXo",
      "include_colab_link": true
    },
    "kernelspec": {
      "name": "python3",
      "display_name": "Python 3"
    },
    "language_info": {
      "name": "python"
    }
  },
  "cells": [
    {
      "cell_type": "markdown",
      "metadata": {
        "id": "view-in-github",
        "colab_type": "text"
      },
      "source": [
        "<a href=\"https://colab.research.google.com/github/jyungjyung/global_project/blob/main/Untitled0.ipynb\" target=\"_parent\"><img src=\"https://colab.research.google.com/assets/colab-badge.svg\" alt=\"Open In Colab\"/></a>"
      ]
    },
    {
      "cell_type": "code",
      "source": [
        "class Node:\n",
        "  def __init__(self,elem, link=None):\n",
        "    self.data = elem\n",
        "    self.link = link"
      ],
      "metadata": {
        "id": "u3cM0onwzToB"
      },
      "execution_count": 4,
      "outputs": []
    },
    {
      "cell_type": "code",
      "execution_count": 5,
      "metadata": {
        "id": "2Ek4LuiJyViR"
      },
      "outputs": [],
      "source": [
        "class CircularLinkedQueue:\n",
        "  def __init__(self):\n",
        "    self.tail=None\n",
        "\n",
        "  def isEmpty(self):\n",
        "    return self.tail==None\n",
        "  def clear(self):\n",
        "    self.tail=None\n",
        "  def peek(self):\n",
        "    if self.isEmpty():\n",
        "      return None\n",
        "    return self.tail.data\n",
        "  def enqueue(self,data):\n",
        "    node=Node(data)\n",
        "    if self.isEmpty():\n",
        "      self.tail=node\n",
        "      node.next=node\n",
        "    else:\n",
        "      node.next=self.tail.next\n",
        "      self.tail.next=node\n",
        "      self.tail=node\n",
        "  def dequeue(self):\n",
        "    if self.isEmpty():\n",
        "      return None\n",
        "    data=self.tail.next.data\n",
        "    self.tail.next=self.tail.next.next\n",
        "  def size(self):\n",
        "    if self.isEmpty():\n",
        "      return 0\n",
        "    count=1\n",
        "    current=self.tail.next\n",
        "    while current!=self.tail:\n",
        "      count+=1\n",
        "      current=current.next\n",
        "    return count\n",
        "  def display(self, msg='CLQ : '):\n",
        "    print(msg, end='')\n",
        "    if not self.isEmpty():\n",
        "      node=self.tail.next\n",
        "      while node!=self.tail:\n",
        "        print(node.data, end=' ')\n",
        "        node=node.next\n",
        "      print(node.data, end=' ')\n",
        "    print()"
      ]
    },
    {
      "cell_type": "code",
      "source": [],
      "metadata": {
        "id": "rlNb0UJWzSHL"
      },
      "execution_count": null,
      "outputs": []
    },
    {
      "cell_type": "code",
      "source": [
        "q=CircularLinkedQueue()\n",
        "for i in range(8):\n",
        "  q.enqueue(i)\n",
        "q.display()\n",
        "for i in range(5):\n",
        "  q.dequeue()\n",
        "q.display\n",
        "for i in range(8,14):\n",
        "  q.enqueue(i)\n",
        "q.display()"
      ],
      "metadata": {
        "colab": {
          "base_uri": "https://localhost:8080/"
        },
        "id": "t1zPFhHEzFzv",
        "outputId": "c810e876-f6dd-45e7-894e-d81dbe07601a"
      },
      "execution_count": 6,
      "outputs": [
        {
          "output_type": "stream",
          "name": "stdout",
          "text": [
            "CLQ : 0 1 2 3 4 5 6 7 \n",
            "CLQ : 5 6 7 8 9 10 11 12 13 \n"
          ]
        }
      ]
    }
  ]
}