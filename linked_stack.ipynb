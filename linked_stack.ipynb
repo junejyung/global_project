{
  "nbformat": 4,
  "nbformat_minor": 0,
  "metadata": {
    "colab": {
      "provenance": [],
      "authorship_tag": "ABX9TyMpagIJ9hh45sKEfyUZ372G",
      "include_colab_link": true
    },
    "kernelspec": {
      "name": "python3",
      "display_name": "Python 3"
    },
    "language_info": {
      "name": "python"
    }
  },
  "cells": [
    {
      "cell_type": "markdown",
      "metadata": {
        "id": "view-in-github",
        "colab_type": "text"
      },
      "source": [
        "<a href=\"https://colab.research.google.com/github/jyungjyung/global_project/blob/main/linked_stack.ipynb\" target=\"_parent\"><img src=\"https://colab.research.google.com/assets/colab-badge.svg\" alt=\"Open In Colab\"/></a>"
      ]
    },
    {
      "cell_type": "code",
      "execution_count": 9,
      "metadata": {
        "id": "nIr3zhvrqVe8"
      },
      "outputs": [],
      "source": [
        "class Node:\n",
        "  def __init__(self,elem, link=None):\n",
        "    self.data = elem\n",
        "    self.link = link"
      ]
    },
    {
      "cell_type": "code",
      "source": [
        "class LinkedStack:\n",
        "  def __init__(self):\n",
        "    self.top = None\n",
        "\n",
        "  def isEmpty(self):\n",
        "    return self.top == None\n",
        "  def push(self, item):\n",
        "    self.top = None\n",
        "  def push(self, item):\n",
        "    new = Node(item, self.top)\n",
        "    self.top = new\n",
        "  def pop(self):\n",
        "    if not self.isEmpty():\n",
        "      new = self.top\n",
        "      self.top = new.link\n",
        "      return new.data\n",
        "  def size(self):\n",
        "    node=self.top\n",
        "    count=0\n",
        "    while not node==None:\n",
        "      node = node.link\n",
        "      count +=1\n",
        "      return count\n",
        "  def peek(self):\n",
        "    if not self.isEmpty():\n",
        "      return self.top.data\n",
        "  def display(self, msg='LinkedStack:'):\n",
        "    print(msg, end='')\n",
        "    node = self.top\n",
        "    while not node==None:\n",
        "      print(node.data, end='')\n",
        "      node = node.link\n",
        "    print()"
      ],
      "metadata": {
        "id": "ryBbiyTArHQh"
      },
      "execution_count": 10,
      "outputs": []
    },
    {
      "cell_type": "code",
      "source": [
        "odd = LinkedStack()\n",
        "even = LinkedStack()\n",
        "\n",
        "for i in range(10):\n",
        "  if i%2==0:\n",
        "    even.push(i)\n",
        "  else:\n",
        "    odd.push(i)\n",
        "\n",
        "print(\"스택 even push 5회:\", even)\n",
        "print(\"스택  odd push 5회:\", odd)\n",
        "print('='*30)\n",
        "print(\"스택 even push 5회 \", end='');  even.display()\n",
        "print(\"스택  odd push 5회 \", end='');  odd.display()\n",
        "\n",
        "print(\"스택 even peek:\", even.peek())\n",
        "print(\"스택  odd peek:\", odd.peek())\n",
        "\n",
        "for i in range(2):\n",
        "  even.pop()\n",
        "for i in range(3):\n",
        "  odd.pop()\n",
        "\n",
        "print('='*30)\n",
        "print(\"스택 even pop 2회 \", end='');  even.display()\n",
        "print(\"스택  odd pop 3회 \", end='');  odd.display()"
      ],
      "metadata": {
        "colab": {
          "base_uri": "https://localhost:8080/"
        },
        "id": "KU6nWgUpsc2Z",
        "outputId": "758cb43d-7d73-4efd-c9c4-5cd5d04b1958"
      },
      "execution_count": 12,
      "outputs": [
        {
          "output_type": "stream",
          "name": "stdout",
          "text": [
            "스택 even push 5회: <__main__.LinkedStack object at 0x7a70fd258bb0>\n",
            "스택  odd push 5회: <__main__.LinkedStack object at 0x7a70fd259a50>\n",
            "==============================\n",
            "스택 even push 5회 LinkedStack:86420\n",
            "스택  odd push 5회 LinkedStack:97531\n",
            "스택 even peek: 8\n",
            "스택  odd peek: 9\n",
            "==============================\n",
            "스택 even pop 2회 LinkedStack:420\n",
            "스택  odd pop 3회 LinkedStack:31\n"
          ]
        }
      ]
    }
  ]
}