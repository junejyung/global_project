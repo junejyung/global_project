{
  "nbformat": 4,
  "nbformat_minor": 0,
  "metadata": {
    "colab": {
      "provenance": [],
      "authorship_tag": "ABX9TyM0xmM8n9voauMp5Ijukga+",
      "include_colab_link": true
    },
    "kernelspec": {
      "name": "python3",
      "display_name": "Python 3"
    },
    "language_info": {
      "name": "python"
    }
  },
  "cells": [
    {
      "cell_type": "markdown",
      "metadata": {
        "id": "view-in-github",
        "colab_type": "text"
      },
      "source": [
        "<a href=\"https://colab.research.google.com/github/jyungjyung/global_project/blob/main/DoublyLinkedDeque.ipynb\" target=\"_parent\"><img src=\"https://colab.research.google.com/assets/colab-badge.svg\" alt=\"Open In Colab\"/></a>"
      ]
    },
    {
      "cell_type": "code",
      "execution_count": 2,
      "metadata": {
        "id": "Hn7SbOXyz3MR"
      },
      "outputs": [],
      "source": [
        "class DNode:\n",
        "  def __init__(self, elem, prev=0, next=0):\n",
        "    self.data = elem\n",
        "    self.prev = prev\n",
        "    self.next = next"
      ]
    },
    {
      "cell_type": "code",
      "source": [
        "class DoublyLinkedDeque:\n",
        "  def __init__(self):\n",
        "    self.front = None\n",
        "    self.rear = None\n",
        "\n",
        "  def isEmpty(self):\n",
        "    return self.front == None\n",
        "  def clear(self):\n",
        "    self.front = None\n",
        "    self.rear = None\n",
        "  def size(self):\n",
        "    node=self.front\n",
        "    count=0\n",
        "    while not node==None:\n",
        "      node = node.next\n",
        "      count +=1\n",
        "      return count\n",
        "  def display(self, msg='DoublyLinkedDeque:'):\n",
        "    print(msg, end=' ')\n",
        "    node = self.front\n",
        "    while not node==None:\n",
        "      print(node.data, end=' ')\n",
        "      node = node.next\n",
        "    print()\n",
        "  def addFront(self, item):\n",
        "    node = DNode(item, None, self.front)\n",
        "    if self.isEmpty():\n",
        "      self.rear = node\n",
        "    else:\n",
        "      node.next = self.front\n",
        "      self.front.prev = node\n",
        "    self.front = node\n",
        "  def addRear(self, item):\n",
        "    node = DNode(item, self.rear, None)\n",
        "    if self.isEmpty():\n",
        "      self.front = node\n",
        "    else:\n",
        "      node.prev = self.rear\n",
        "      self.rear.next = node\n",
        "    self.rear = node\n",
        "  def deleteFront(self):\n",
        "    if not self.isEmpty():\n",
        "      data=self.front.data\n",
        "      self.front = self.front.next\n",
        "      if not self.isEmpty():\n",
        "        self.front.prev = None\n",
        "      return data\n",
        "  def deleteRear(self):\n",
        "    if not self.isEmpty():\n",
        "      data=self.rear.data\n",
        "      self.rear = self.rear.prev\n",
        "      if not self.isEmpty():\n",
        "        self.rear.next = None\n",
        "      return data"
      ],
      "metadata": {
        "id": "1kczbued0A7G"
      },
      "execution_count": 18,
      "outputs": []
    },
    {
      "cell_type": "code",
      "source": [
        "dq = DoublyLinkedDeque()\n",
        "for i in range(9):\n",
        "  if i % 2 == 0:\n",
        "    dq.addFront(i)\n",
        "  else:\n",
        "    dq.addRear(i)\n",
        "dq.display()\n",
        "\n",
        "for i in range(2):\n",
        "  dq.deleteFront()\n",
        "for i in range(3):\n",
        "  dq.deleteRear()\n",
        "dq.display()\n",
        "\n",
        "for i in range(9,14):\n",
        "  dq.addFront(i)\n",
        "dq.display()"
      ],
      "metadata": {
        "colab": {
          "base_uri": "https://localhost:8080/"
        },
        "id": "cE-7Bkgu0-0B",
        "outputId": "71c2001a-97fd-48cd-d2ee-13f5bc31782d"
      },
      "execution_count": 19,
      "outputs": [
        {
          "output_type": "stream",
          "name": "stdout",
          "text": [
            "DoublyLinkedDeque: 8 6 4 2 0 1 3 5 7 \n",
            "DoublyLinkedDeque: 4 2 0 1 \n",
            "DoublyLinkedDeque: 13 12 11 10 9 4 2 0 1 \n"
          ]
        }
      ]
    }
  ]
}